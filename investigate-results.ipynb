{
 "cells": [
  {
   "cell_type": "markdown",
   "metadata": {},
   "source": [
    "# Investigate Results\n",
    "----\n",
    "Load in `results` files and...\n",
    "1. Generate **bar plots** of each link prediction method given an inputted network, visibility value (pct. hidden edges), and metric (e.g. test ROC), along with some pre-calculated network statistics (e.g. num. nodes, avg. clustering coefficient, etc.)\n",
    "2. Plot **ROC curves** for inputted network, visibility, and link prediction method\n",
    "3. **Save ROC AUC/AP plots** as .pdf files\n",
    "4. **Save minimum runtime plots** as .pdf files\n",
    "5. **Save network statistics** as .txt files\n",
    "6. Generate **ROC Plots by Algorithm**\n",
    "7. Generate **Twitter Results** Plots"
   ]
  },
  {
   "cell_type": "code",
   "execution_count": 1,
   "metadata": {},
   "outputs": [],
   "source": [
    "import networkx as nx\n",
    "import matplotlib.pyplot as plt\n",
    "import link_prediction_scores as lp\n",
    "import pickle\n",
    "\n",
    "RANDOM_SEED = 0"
   ]
  },
  {
   "cell_type": "markdown",
   "metadata": {},
   "source": [
    "## 1. Generate Bar Plots with Network Statistics"
   ]
  },
  {
   "cell_type": "code",
   "execution_count": 2,
   "metadata": {},
   "outputs": [
    {
     "ename": "UnicodeDecodeError",
     "evalue": "'ascii' codec can't decode byte 0xa4 in position 0: ordinal not in range(128)",
     "traceback": [
      "\u001b[1;31m---------------------------------------------------------------------------\u001b[0m",
      "\u001b[1;31mUnicodeDecodeError\u001b[0m                        Traceback (most recent call last)",
      "\u001b[1;32m<ipython-input-2-4f60d9638459>\u001b[0m in \u001b[0;36m<module>\u001b[1;34m\u001b[0m\n\u001b[0;32m      2\u001b[0m \u001b[0mfb_results\u001b[0m \u001b[1;33m=\u001b[0m \u001b[1;32mNone\u001b[0m\u001b[1;33m\u001b[0m\u001b[0m\n\u001b[0;32m      3\u001b[0m \u001b[1;32mwith\u001b[0m \u001b[0mopen\u001b[0m\u001b[1;33m(\u001b[0m\u001b[1;34m'./results/fb-experiment-4-results.pkl'\u001b[0m\u001b[1;33m,\u001b[0m \u001b[1;34m'rb'\u001b[0m\u001b[1;33m)\u001b[0m \u001b[1;32mas\u001b[0m \u001b[0mf\u001b[0m\u001b[1;33m:\u001b[0m\u001b[1;33m\u001b[0m\u001b[0m\n\u001b[1;32m----> 4\u001b[1;33m     \u001b[0mfb_results\u001b[0m \u001b[1;33m=\u001b[0m \u001b[0mpickle\u001b[0m\u001b[1;33m.\u001b[0m\u001b[0mload\u001b[0m\u001b[1;33m(\u001b[0m\u001b[0mf\u001b[0m\u001b[1;33m)\u001b[0m\u001b[1;33m\u001b[0m\u001b[0m\n\u001b[0m\u001b[0;32m      5\u001b[0m \u001b[1;33m\u001b[0m\u001b[0m\n\u001b[0;32m      6\u001b[0m \u001b[1;31m# Generate bar plot given graph name (which ego network), frac_hidden, and metric to investigate (e.g. test ROC)\u001b[0m\u001b[1;33m\u001b[0m\u001b[1;33m\u001b[0m\u001b[0m\n",
      "\u001b[1;31mUnicodeDecodeError\u001b[0m: 'ascii' codec can't decode byte 0xa4 in position 0: ordinal not in range(128)"
     ],
     "output_type": "error"
    }
   ],
   "source": [
    "# Open FB results\n",
    "fb_results = None\n",
    "with open('./results/fb-experiment-4-results.pkl', 'rb') as f:\n",
    "    fb_results = pickle.load(f)\n",
    "\n",
    "# Generate bar plot given graph name (which ego network), frac_hidden, and metric to investigate (e.g. test ROC)\n",
    "def bar_plot(graph_name, frac_hidden, metric):\n",
    "    results_dict = fb_results['fb-{}-{}-hidden'.format(graph_name, frac_hidden)]\n",
    "    metric_dict = {}\n",
    "    for method, results_dict in results_dict.iteritems():\n",
    "        metric_dict[method] = results_dict[metric]\n",
    "        \n",
    "    plt.figure(figsize=(12, 4))\n",
    "    plt.bar(range(len(metric_dict)), metric_dict.values())\n",
    "    plt.xticks(range(len(metric_dict)), list(metric_dict.keys()))\n",
    "    plt.grid(linestyle='dashed')\n",
    "    plt.xlabel(\"Link prediction methods\")\n",
    "    plt.ylabel(\"Metric: {}\".format(metric))\n",
    "    plt.title(\"Link Prediction Results: FB {} graph, {} hidden\".format(graph_name, frac_hidden))\n",
    "    plt.show()"
   ]
  },
  {
   "cell_type": "code",
   "execution_count": null,
   "metadata": {},
   "outputs": [],
   "source": [
    "# Display network statistics for given network\n",
    "def display_fb_network_statistics(graph_name):\n",
    "    if graph_name == 'combined':\n",
    "        graph_statistics_dir = './network-statistics/fb-combined-statistics.pkl'\n",
    "    else:\n",
    "        graph_statistics_dir = './network-statistics/fb-ego-{}-statistics.pkl'.format(graph_name)\n",
    "    \n",
    "    network_statistics = None\n",
    "    with open(graph_statistics_dir, 'rb') as f:\n",
    "        network_statistics = pickle.load(f)\n",
    "        \n",
    "    print 'FB Graph: ' + graph_name\n",
    "    for statistic, value in network_statistics.iteritems():\n",
    "        print statistic + ': ' + str(value)"
   ]
  },
  {
   "cell_type": "code",
   "execution_count": null,
   "metadata": {},
   "outputs": [],
   "source": [
    "# Display bar plot + network statistics\n",
    "bar_plot('combined', 0.5, 'test_roc')\n",
    "display_fb_network_statistics('combined')"
   ]
  },
  {
   "cell_type": "markdown",
   "metadata": {},
   "source": [
    "## 3. Plot ROC Curves"
   ]
  },
  {
   "cell_type": "code",
   "execution_count": null,
   "metadata": {},
   "outputs": [],
   "source": [
    "# Plot ROC curve given graph_name, frac_hidden, and link prediction method (e.g. aa, for adamic-adar)\n",
    "def show_roc_curve(graph_name, frac_hidden, method):\n",
    "    results_dict = fb_results['fb-{}-{}-hidden'.format(graph_name, frac_hidden)]\n",
    "    roc_curve = results_dict[method]['test_roc_curve']\n",
    "    test_roc = results_dict[method]['test_roc']\n",
    "    fpr, tpr, _ = roc_curve\n",
    "        \n",
    "    plt.figure()\n",
    "    lw = 2\n",
    "    plt.plot(fpr, tpr, color='darkorange',\n",
    "             lw=lw, label='ROC curve (area = %0.2f)' % test_roc)\n",
    "    plt.plot([0, 1], [0, 1], color='navy', lw=lw, linestyle='--')\n",
    "    plt.xlim([0.0, 1.0])\n",
    "    plt.ylim([0.0, 1.05])\n",
    "    plt.xlabel('False Positive Rate')\n",
    "    plt.ylabel('True Positive Rate')\n",
    "    plt.title('ROC Curve:\\nFB {} graph, {} hidden, {}'.format(graph_name, frac_hidden, method))\n",
    "    plt.legend(loc=\"lower right\")\n",
    "    plt.show()"
   ]
  },
  {
   "cell_type": "code",
   "execution_count": 7,
   "metadata": {},
   "outputs": [
    {
     "data": {
      "image/png": "[encoded data removed]",
      "text/plain": [
       "<matplotlib.figure.Figure at 0x11cd0efd0>"
      ]
     },
     "metadata": {},
     "output_type": "display_data"
    }
   ],
   "source": [
    "# Try it out!\n",
    "show_roc_curve('combined', 0.75, 'n2v_edge_emb')"
   ]
  },
  {
   "cell_type": "markdown",
   "metadata": {
    "collapsed": true
   },
   "source": [
    "## 4. Save ROC AUC, AP Plots"
   ]
  },
  {
   "cell_type": "code",
   "execution_count": 8,
   "metadata": {
    "collapsed": true
   },
   "outputs": [],
   "source": [
    "FB_EXPERIMENT_NUM = 3\n",
    "NX_EXPERIMENT_NUM = 2\n",
    "METRICS = ['test_roc', 'test_ap']\n",
    "RESULT_PLOTS_FOLDER = './result-plots-by-graph/'\n",
    "\n",
    "# Load in FB results\n",
    "fb_results_dict = None\n",
    "with open('./results/fb-experiment-{}-results.pkl'.format(FB_EXPERIMENT_NUM), 'rb') as f:\n",
    "    fb_results_dict = pickle.load(f)\n",
    "    \n",
    "# Load in NX results\n",
    "nx_results_dict = None\n",
    "with open('./results/nx-experiment-{}-results.pkl'.format(NX_EXPERIMENT_NUM), 'rb') as f:\n",
    "    nx_results_dict = pickle.load(f)\n",
    "    \n",
    "# Combined dictionaries\n",
    "all_results_dict = fb_results_dict.copy()\n",
    "all_results_dict.update(nx_results_dict)"
   ]
  },
  {
   "cell_type": "code",
   "execution_count": 17,
   "metadata": {
    "collapsed": true
   },
   "outputs": [],
   "source": [
    "# Save bar plot in .pdf given metric name, metric dict (with results for each method), experiment name\n",
    "def save_bar_plot(metric_name, metric_dict, experiment_name):\n",
    "    if experiment_name[0:2] == 'fb': # e.g. fb-0-0.50-hidden\n",
    "        descriptors = experiment_name.split('-')\n",
    "        ego_num = descriptors[1]\n",
    "        amt_hidden = descriptors[2]\n",
    "        graph_title = \"Link Prediction Results: FB-{} graph, {} hidden\".format(ego_num, amt_hidden)\n",
    "        \n",
    "    elif experiment_name[0:2] == 'nx': # e.g. nx-sbm-small-0.25-hidden\n",
    "        descriptors = experiment_name.split('-')\n",
    "        graph_type = descriptors[1]\n",
    "        graph_size = descriptors[2]\n",
    "        amt_hidden = descriptors[3]\n",
    "        graph_title = \"Link Prediction Results: NX-{}-{} graph, {} hidden\".format(graph_type, graph_size, amt_hidden)\n",
    "        \n",
    "    else:\n",
    "        print 'Unknown graph type!'\n",
    "        return\n",
    "    \n",
    "    plt.figure(figsize=(8, 4))\n",
    "    plt.bar(range(len(metric_dict)), metric_dict.values())\n",
    "    plt.xticks(range(len(metric_dict)), list(metric_dict.keys()))\n",
    "    plt.grid(linestyle='dashed')\n",
    "    \n",
    "    plt.xlabel(\"Link prediction methods\")\n",
    "    plt.ylabel(\"Metric: {}\".format(metric_name))\n",
    "    plt.title(graph_title)\n",
    "    \n",
    "    plt.savefig(RESULT_PLOTS_FOLDER + experiment_name + '-' + metric_name + '.pdf')\n",
    "    plt.clf()"
   ]
  },
  {
   "cell_type": "code",
   "execution_count": 18,
   "metadata": {
    "collapsed": true
   },
   "outputs": [],
   "source": [
    "# Iterate over each experiment, generate plots for each relevant metric (e.g. test ROC, test AP)\n",
    "for experiment_name, results_dict in all_results_dict.iteritems():\n",
    "    # For each metric...\n",
    "    for metric in METRICS:\n",
    "        metric_dict = dict()\n",
    "        \n",
    "        # Populate metric_dict with results for each method\n",
    "        for method, method_results_dict in results_dict.iteritems():\n",
    "            metric_dict[method] = method_results_dict[metric]\n",
    "        \n",
    "        # Generate plot for this method and experiment name\n",
    "        save_bar_plot(metric, metric_dict, experiment_name)"
   ]
  },
  {
   "cell_type": "markdown",
   "metadata": {
    "collapsed": true
   },
   "source": [
    "## 4. Save Minimum Runtime Plots"
   ]
  },
  {
   "cell_type": "code",
   "execution_count": 27,
   "metadata": {
    "collapsed": true
   },
   "outputs": [],
   "source": [
    "# Min. runtime dict: \n",
    "    # experiment_name (either FB or NX) --> link prediction method --> min. runtime\n",
    "min_runtimes = {}\n",
    "\n",
    "FB_EXPERIMENT_NUMS = [0, 1, 2, 3]\n",
    "NX_EXPERIMENT_NUMS = [0, 1, 2]\n",
    "\n",
    "# Iterate over all FB experiments, store minimum runtimes\n",
    "for fb_num in FB_EXPERIMENT_NUMS:\n",
    "    # Load in results for this experiment\n",
    "    curr_fb_dict = None\n",
    "    fb_filename = './results/fb-experiment-{}-results.pkl'.format(fb_num)\n",
    "    with open(fb_filename, 'rb') as f:\n",
    "        curr_fb_dict = pickle.load(f)\n",
    "        \n",
    "    # Iterate over experiments in curr_fb_dict\n",
    "    for experiment, results in curr_fb_dict.iteritems():\n",
    "        # Create (method --> runtime) dict, if necessary\n",
    "        if experiment not in min_runtimes:\n",
    "            min_runtimes[experiment] = {}\n",
    "        \n",
    "        # Iterate over link prediction methods in current network & experiment\n",
    "        for method, metrics in results.iteritems():\n",
    "            # Method currently has recorded runtime\n",
    "            if method in min_runtimes[experiment]: \n",
    "                # Overwrite previous runtime\n",
    "                if metrics['runtime'] < min_runtimes[experiment][method]:\n",
    "                    min_runtimes[experiment][method] = metrics['runtime']\n",
    "            # Method does not yet have recorded runtime\n",
    "            else:\n",
    "                min_runtimes[experiment][method] = metrics['runtime']\n",
    "                    \n",
    "# Iterate over all NX experiments, store minimum runtimes\n",
    "for nx_num in NX_EXPERIMENT_NUMS:\n",
    "    # Load in results for this experiment\n",
    "    curr_nx_dict = None\n",
    "    nx_filename = './results/nx-experiment-{}-results.pkl'.format(fb_num)\n",
    "    with open(nx_filename, 'rb') as f:\n",
    "        curr_nx_dict = pickle.load(f)\n",
    "        \n",
    "    # Iterate over experiments in curr_nx_dict\n",
    "    for experiment, results in curr_nx_dict.iteritems():\n",
    "        \n",
    "        # Create (method --> runtime) dict, if necessary\n",
    "        if experiment not in min_runtimes:\n",
    "            min_runtimes[experiment] = {}\n",
    "            \n",
    "        # Remove gae_edge_emb results from NX experiments\n",
    "        results['gae'] = results['gae_dot_prod']\n",
    "        results.pop('gae_dot_prod')\n",
    "        results.pop('gae_edge_emb')\n",
    "        \n",
    "        # Iterate over link prediction methods in current network & experiment\n",
    "        for method, metrics in results.iteritems():\n",
    "            # Method currently has recorded runtime\n",
    "            if method in min_runtimes[experiment]: \n",
    "                # Overwrite previous runtime\n",
    "                if metrics['runtime'] < min_runtimes[experiment][method]:\n",
    "                    min_runtimes[experiment][method] = metrics['runtime']\n",
    "            # Method does not yet have recorded runtime\n",
    "            else:\n",
    "                min_runtimes[experiment][method] = metrics['runtime']\n",
    "                "
   ]
  },
  {
   "cell_type": "code",
   "execution_count": 28,
   "metadata": {
    "collapsed": true
   },
   "outputs": [],
   "source": [
    "# Plot runtime bar plots for all experiments\n",
    "for experiment_name, runtime_dict in min_runtimes.iteritems():\n",
    "    if experiment_name[0:2] == 'fb': # e.g. fb-0-0.50-hidden\n",
    "        descriptors = experiment_name.split('-')\n",
    "        ego_num = descriptors[1]\n",
    "        amt_hidden = descriptors[2]\n",
    "        graph_title = \"Link Prediction Runtimes: FB-{} graph, {} hidden\".format(ego_num, amt_hidden)\n",
    "        \n",
    "    elif experiment_name[0:2] == 'nx': # e.g. nx-sbm-small-0.25-hidden\n",
    "        descriptors = experiment_name.split('-')\n",
    "        graph_type = descriptors[1]\n",
    "        graph_size = descriptors[2]\n",
    "        amt_hidden = descriptors[3]\n",
    "        graph_title = \"Link Prediction Runtimes: NX-{}-{} graph, {} hidden\".format(graph_type, graph_size, amt_hidden)\n",
    "        \n",
    "    else:\n",
    "        print 'Unknown graph type!'\n",
    "    \n",
    "    plt.figure(figsize=(8, 4))\n",
    "    plt.bar(range(len(runtime_dict)), runtime_dict.values())\n",
    "    plt.xticks(range(len(runtime_dict)), list(runtime_dict.keys()))\n",
    "    plt.grid(linestyle='dashed')\n",
    "    \n",
    "    plt.xlabel(\"Link prediction methods\")\n",
    "    plt.ylabel(\"Minimum runtime (seconds)\")\n",
    "    plt.title(graph_title)\n",
    "    \n",
    "    plt.savefig('./result-plots-by-graph/' + experiment_name + '-runtime.pdf')\n",
    "    plt.clf()"
   ]
  },
  {
   "cell_type": "code",
   "execution_count": 30,
   "metadata": {
    "collapsed": true
   },
   "outputs": [],
   "source": [
    "# Calculate average minimum runtimes for GAE, node2vec on 200- and 1000- node NX graphs\n",
    "    # (Sum of all minimum runtimes / number of relevant experiments)\n",
    "node2vec_200_total_seconds = 0\n",
    "node2vec_1000_total_seconds = 0\n",
    "\n",
    "gae_200_total_seconds = 0\n",
    "gae_1000_total_seconds = 0\n",
    "\n",
    "total_200_node_experiments = 0\n",
    "total_1000_node_experiments = 0\n",
    "\n",
    "for experiment_name, runtime_dict in min_runtimes.iteritems():\n",
    "    if experiment_name[0:2] != 'nx':\n",
    "        continue\n",
    "        \n",
    "    descriptors = experiment_name.split('-')\n",
    "    graph_type = descriptors[1]\n",
    "    graph_size = descriptors[2]\n",
    "    amt_hidden = descriptors[3]\n",
    "    \n",
    "    if graph_size == 'small':\n",
    "        node2vec_200_total_seconds += runtime_dict['n2v_edge_emb']\n",
    "        gae_200_total_seconds += runtime_dict['gae']\n",
    "        total_200_node_experiments += 1\n",
    "        \n",
    "    elif graph_size == 'large':\n",
    "        node2vec_1000_total_seconds += runtime_dict['n2v_edge_emb']\n",
    "        gae_1000_total_seconds += runtime_dict['gae']\n",
    "        total_1000_node_experiments += 1\n",
    "        \n",
    "node2vec_200_avg_min_runtime = node2vec_200_total_seconds / total_200_node_experiments\n",
    "node2vec_1000_avg_min_runtime = node2vec_1000_total_seconds / total_1000_node_experiments\n",
    "gae_200_avg_min_runtime = gae_200_total_seconds / total_200_node_experiments\n",
    "gae_1000_avg_min_runtime = gae_1000_total_seconds / total_1000_node_experiments"
   ]
  },
  {
   "cell_type": "code",
   "execution_count": 36,
   "metadata": {},
   "outputs": [
    {
     "name": "stdout",
     "output_type": "stream",
     "text": [
      "Node2Vec average min. runtime with 200 nodes:  2.13531324069\n",
      "GAE average min. runtime with 200 nodes:  30.8872665246\n",
      "\n",
      "Node2Vec average min. runtime with 1000 nodes:  12.4607275486\n",
      "GAE average min. runtime with 1000 nodes:  39.0871587753\n"
     ]
    }
   ],
   "source": [
    "print \"Node2Vec average min. runtime with 200 nodes: \", node2vec_200_avg_min_runtime\n",
    "print \"GAE average min. runtime with 200 nodes: \", gae_200_avg_min_runtime\n",
    "print ''\n",
    "print \"Node2Vec average min. runtime with 1000 nodes: \", node2vec_1000_avg_min_runtime\n",
    "print \"GAE average min. runtime with 1000 nodes: \", gae_1000_avg_min_runtime"
   ]
  },
  {
   "cell_type": "markdown",
   "metadata": {
    "collapsed": true
   },
   "source": [
    "## 5. Save Network Statistics in .txt Files"
   ]
  },
  {
   "cell_type": "code",
   "execution_count": 13,
   "metadata": {
    "collapsed": true
   },
   "outputs": [],
   "source": [
    "import os\n",
    "import pickle\n",
    "STATS_FOLDER = \"./network-statistics/\"\n",
    "stats_filenames = os.listdir(STATS_FOLDER)\n",
    "\n",
    "# Loop over all files in folder\n",
    "for filename in stats_filenames:\n",
    "    # Not pickle file --> continue\n",
    "    if filename[-4:] != '.pkl':\n",
    "        continue\n",
    "        \n",
    "    # Read in pickled dictionary\n",
    "    network_statistics = pickle.load(open(STATS_FOLDER + filename, 'rb'))\n",
    "        \n",
    "    # Store results in .txt\n",
    "    txt_filename = filename[:-4] + '.txt' # replace '.pkl' with '.txt'\n",
    "    with open('./network-statistics/'+txt_filename, 'w') as f:\n",
    "        for statistic, value in network_statistics.iteritems():\n",
    "            f.write(statistic + ': ' + str(value) + '\\n')"
   ]
  },
  {
   "cell_type": "markdown",
   "metadata": {},
   "source": [
    "## 6. ROC Charts by Algorithm"
   ]
  },
  {
   "cell_type": "code",
   "execution_count": 75,
   "metadata": {
    "collapsed": true
   },
   "outputs": [],
   "source": [
    "FB_EXPERIMENT_NUM = 3\n",
    "NX_EXPERIMENT_NUM = 2\n",
    "RESULT_PLOTS_FOLDER = './result-plots-by-algorithm/'\n",
    "\n",
    "# Load in FB results\n",
    "fb_results_dict = None\n",
    "with open('./results/fb-experiment-{}-results.pkl'.format(FB_EXPERIMENT_NUM), 'rb') as f:\n",
    "    fb_results_dict = pickle.load(f)\n",
    "    \n",
    "# Load in NX results\n",
    "nx_results_dict = None\n",
    "with open('./results/nx-experiment-{}-results.pkl'.format(NX_EXPERIMENT_NUM), 'rb') as f:\n",
    "    nx_results_dict = pickle.load(f)\n",
    "    \n",
    "# Combined dictionaries\n",
    "all_results_dict = fb_results_dict.copy()\n",
    "all_results_dict.update(nx_results_dict)"
   ]
  },
  {
   "cell_type": "code",
   "execution_count": 14,
   "metadata": {
    "collapsed": true
   },
   "outputs": [],
   "source": [
    "# Mapping from algorithm abbreviation to full name\n",
    "alg_abbr_to_name = {\n",
    "    'aa': 'Adamic-Adar',\n",
    "    'jc': 'Jaccard Coefficient',\n",
    "    'n2v_dot_prod': 'Node2Vec with Dot-Product',\n",
    "    'n2v_edge_emb': 'Node2Vec with Edge-Embeddings',\n",
    "    'pa': 'Preferential Attachment',\n",
    "    'sc': 'Spectral Clustering',\n",
    "    'gae': 'Graph Auto-Encoder',\n",
    "}"
   ]
  },
  {
   "cell_type": "code",
   "execution_count": 113,
   "metadata": {
    "collapsed": true
   },
   "outputs": [],
   "source": [
    "# Which graphs' results to investigate\n",
    "GRAPH_NAMES = ['fb-combined', 'fb-0', 'nx-sbm-large', 'nx-ba-large', 'nx-ws-large', 'nx-er-large', 'nx-pc-large']\n",
    "\n",
    "# Generate ROC bar plot over various graph types for a fixed link prediction algorithm and frac_hidden\n",
    "def alg_results_bar_graph(lp_algorithm, frac_hidden, metric='test_roc', graph_names=GRAPH_NAMES, width=8):\n",
    "    experiment_names = [graph + '-{}-hidden'.format(frac_hidden) for graph in graph_names]\n",
    "    metric_pairs = [] # index 0: graph name; index 1: test ROC score\n",
    "    for graph_name in graph_names:\n",
    "        experiment_name = graph_name + '-{}-hidden'.format(frac_hidden)\n",
    "        metric_val = all_results_dict[experiment_name][lp_algorithm][metric]\n",
    "        metric_pairs.append((graph_name, metric_val))\n",
    "        \n",
    "    # Sort alphabetically by graph name\n",
    "    metric_pairs = sorted(metric_pairs, key = lambda x: x[0])\n",
    "    metric_values = [metric_pair[1] for metric_pair in metric_pairs]\n",
    "    graph_names = [metric_pair[0] for metric_pair in metric_pairs]\n",
    "    \n",
    "    plt.clf()\n",
    "    plt.figure(figsize=(width, 4))\n",
    "    plt.bar(range(len(metric_pairs)), metric_values)\n",
    "    plt.xticks(range(len(metric_pairs)), graph_names)\n",
    "    plt.grid(linestyle='dashed')\n",
    "    plt.xlabel(\"Network Type\")\n",
    "    plt.ylabel(\"Metric: {}\".format('Test AUROC'))\n",
    "    plt.title(\"Link Prediction Scores: {}, {}% edges hidden\".format(alg_abbr_to_name[lp_algorithm], frac_hidden*100))\n",
    "    plt.show()"
   ]
  },
  {
   "cell_type": "code",
   "execution_count": 260,
   "metadata": {},
   "outputs": [
    {
     "data": {
      "text/plain": [
       "<matplotlib.figure.Figure at 0x10b6d58d0>"
      ]
     },
     "metadata": {},
     "output_type": "display_data"
    },
    {
     "data": {
      "image/png": "[encoded data removed]",
      "text/plain": [
       "<matplotlib.figure.Figure at 0x10b8295d0>"
      ]
     },
     "metadata": {},
     "output_type": "display_data"
    }
   ],
   "source": [
    "alg_results_bar_graph('sc', 0.50, \\\n",
    "                      graph_names=[\n",
    "                        'fb-combined', \\\n",
    "                        'nx-sbm-large', 'nx-ba-large', 'nx-sbm-large',\n",
    "                        'nx-sbm-small', 'nx-ba-small', 'nx-sbm-small'\n",
    "                      ],\n",
    "                     width=12)\n",
    "\n",
    "# Include: fb-0, fb-combined, nx-ba-large, nx-sbm-large, (nx-ws-large)\n",
    "# Ignore: erdos-renyi (too random, always 0.5 ROC), nx-pc (similar to ba), (nx-ws-large: very sparse)\n",
    "# Notes:\n",
    "    # Preferential attachment performs well on nx-ba\n",
    "    # Spectral clustering performs poorly on nx-ba\n",
    "    # Real-life networks have more structure to learn than random networks do\n",
    "    # Larger networks have higher ROC scores (more data to learn from)"
   ]
  },
  {
   "cell_type": "code",
   "execution_count": 267,
   "metadata": {
    "collapsed": true
   },
   "outputs": [],
   "source": [
    "# Save each algorithm's AUROC bar plot in .pdf form\n",
    "def save_alg_results_bar_graph(lp_algorithm, frac_hidden, metric='test_roc', graph_names=GRAPH_NAMES, sizes=None):\n",
    "    experiment_names = [graph + '-{}-hidden'.format(frac_hidden) for graph in graph_names]\n",
    "    metric_pairs = [] # index 0: graph name; index 1: test ROC score\n",
    "    for graph_name in graph_names:\n",
    "        experiment_name = graph_name + '-{}-hidden'.format(frac_hidden)\n",
    "        metric_val = all_results_dict[experiment_name][lp_algorithm][metric]\n",
    "        metric_pairs.append((graph_name, metric_val))\n",
    "        \n",
    "    # Sort alphabetically by graph name\n",
    "    metric_pairs = sorted(metric_pairs, key = lambda x: x[0])\n",
    "    metric_values = [metric_pair[1] for metric_pair in metric_pairs]\n",
    "    graph_names = [metric_pair[0] for metric_pair in metric_pairs]\n",
    "        \n",
    "    # Generate figure\n",
    "    plt.figure(figsize=(8, 4))\n",
    "    plt.bar(range(len(metric_pairs)), metric_values)\n",
    "    plt.xticks(range(len(metric_pairs)), graph_names)\n",
    "    plt.grid(linestyle='dashed')\n",
    "    if sizes == 'small':\n",
    "        xlabel = \"Network Type (Small Graphs)\"\n",
    "    elif sizes == 'large':\n",
    "        xlabel = \"Network Type (Large Graphs)\"\n",
    "    else:\n",
    "        xlabel = \"Network Type\"\n",
    "    plt.xlabel(xlabel)\n",
    "    plt.ylabel(\"Metric: {}\".format('Test AUROC'))\n",
    "    plt.title(\"Link Prediction Scores: {}, {}% edges hidden\".format(alg_abbr_to_name[lp_algorithm], frac_hidden*100))\n",
    "    \n",
    "    # Save figure\n",
    "    if sizes == 'small':\n",
    "        img_dir = RESULT_PLOTS_FOLDER + str(lp_algorithm) + '-' + str(frac_hidden) + '-hidden-small.pdf'\n",
    "    elif sizes == 'large':\n",
    "        img_dir = RESULT_PLOTS_FOLDER + str(lp_algorithm) + '-' + str(frac_hidden) + '-hidden-large.pdf'\n",
    "    else:\n",
    "        img_dir = RESULT_PLOTS_FOLDER + str(lp_algorithm) + '-' + str(frac_hidden) + '-hidden.pdf'\n",
    "    plt.savefig(img_dir)\n",
    "    plt.clf()"
   ]
  },
  {
   "cell_type": "code",
   "execution_count": 271,
   "metadata": {
    "collapsed": true
   },
   "outputs": [],
   "source": [
    "# Generate AUROC graphs for each algorithm, frac_hidden\n",
    "ALGORITHMS_TO_PLOT = alg_abbr_to_name.keys()\n",
    "FRACS_HIDDEN = [0.25, 0.5, 0.75]\n",
    "for alg in ALGORITHMS_TO_PLOT:\n",
    "    for frac_hidden in FRACS_HIDDEN:\n",
    "        save_alg_results_bar_graph(alg, frac_hidden, \n",
    "                    graph_names=['fb-combined', 'nx-er-large', 'nx-pc-large', 'nx-sbm-large', 'nx-ba-large', 'nx-ws-large'],\n",
    "                                  sizes='large')\n",
    "        save_alg_results_bar_graph(alg, frac_hidden, \n",
    "                    graph_names=['fb-348', 'nx-er-small', 'nx-pc-small', 'nx-sbm-small', 'nx-ba-small', 'nx-ws-small'],\n",
    "                                  sizes='small')"
   ]
  },
  {
   "cell_type": "markdown",
   "metadata": {
    "collapsed": true
   },
   "source": [
    "## 7. Twitter Results Plots"
   ]
  },
  {
   "cell_type": "markdown",
   "metadata": {},
   "source": [
    "### Runtime Plots"
   ]
  },
  {
   "cell_type": "code",
   "execution_count": 11,
   "metadata": {},
   "outputs": [],
   "source": [
    "import os\n",
    "import json\n",
    "RESULTS_FOLDER = \"./results/\"\n",
    "\n",
    "# Get minimum runtimes across Twitter experiments\n",
    "twitter_min_runtimes = {}\n",
    "TWITTER_EXPERIMENT_NUMS = [0, 1, 2]\n",
    "\n",
    "# Iterate over all Twitter experiments, store minimum runtimes\n",
    "for twitter_num in TWITTER_EXPERIMENT_NUMS:\n",
    "    # Load in results for this experiment\n",
    "    curr_fb_dict = None\n",
    "    twitter_filename = './results/twitter-experiment-{}-results.json'.format(twitter_num)\n",
    "    with open(twitter_filename, 'rb') as f:\n",
    "        curr_twitter_dict = json.load(f)\n",
    "        \n",
    "    # Iterate over experiments in curr_twitter_dict\n",
    "    for experiment, results in curr_twitter_dict.iteritems():\n",
    "        # Create (method --> runtime) dict, if necessary\n",
    "        if experiment not in twitter_min_runtimes:\n",
    "            twitter_min_runtimes[experiment] = {}\n",
    "        \n",
    "        # Iterate over link prediction methods in current network & experiment\n",
    "        for method, metrics in results.iteritems():\n",
    "            # Method currently has recorded runtime\n",
    "            if method in twitter_min_runtimes[experiment]: \n",
    "                # Overwrite previous runtime\n",
    "                if metrics['runtime'] < twitter_min_runtimes[experiment][method]:\n",
    "                    twitter_min_runtimes[experiment][method] = metrics['runtime']\n",
    "            # Method does not yet have recorded runtime\n",
    "            else:\n",
    "                twitter_min_runtimes[experiment][method] = metrics['runtime']"
   ]
  },
  {
   "cell_type": "code",
   "execution_count": 13,
   "metadata": {},
   "outputs": [],
   "source": [
    "# Plot runtime bar plots for all experiments\n",
    "import matplotlib.pyplot as plt\n",
    "for experiment_name, runtime_dict in twitter_min_runtimes.iteritems():\n",
    "    descriptors = experiment_name.split('-')\n",
    "    ego_num = descriptors[1]\n",
    "    amt_hidden = descriptors[2]\n",
    "    graph_title = \"Link Prediction Runtimes: Twitter-{} graph, {} hidden\".format(ego_num, amt_hidden)\n",
    "    \n",
    "    plt.figure(figsize=(8, 4))\n",
    "    plt.bar(range(len(runtime_dict)), runtime_dict.values())\n",
    "    plt.xticks(range(len(runtime_dict)), list(runtime_dict.keys()))\n",
    "    plt.grid(linestyle='dashed')\n",
    "    \n",
    "    plt.xlabel(\"Link prediction methods\")\n",
    "    plt.ylabel(\"Minimum runtime (seconds)\")\n",
    "    plt.title(graph_title)\n",
    "    \n",
    "    plt.savefig('./result-plots-by-graph/' + experiment_name + '-runtime.pdf')\n",
    "    plt.clf()"
   ]
  },
  {
   "cell_type": "markdown",
   "metadata": {},
   "source": [
    "### ROC AUC Plots"
   ]
  },
  {
   "cell_type": "code",
   "execution_count": 22,
   "metadata": {},
   "outputs": [],
   "source": [
    "# Save bar plot in .pdf given metric name, metric dict (with results for each method), experiment name\n",
    "RESULT_PLOTS_FOLDER = './result-plots-by-graph/'\n",
    "twitter_results = None\n",
    "with open('./results/twitter-experiment-0-results.json', 'rb') as f:\n",
    "    twitter_results = json.load(f)\n",
    "    \n",
    "# Save Twitter results bar plot\n",
    "def save_twitter_bar_plot(metric_name, metric_dict, experiment_name):\n",
    "    descriptors = experiment_name.split('-')\n",
    "    ego_num = descriptors[1]\n",
    "    amt_hidden = descriptors[2]\n",
    "    graph_title = \"Link Prediction Results: Twitter-{} graph, {} hidden\".format(ego_num, amt_hidden)\n",
    "    \n",
    "    plt.figure(figsize=(8, 4))\n",
    "    plt.bar(range(len(metric_dict)), metric_dict.values())\n",
    "    plt.xticks(range(len(metric_dict)), list(metric_dict.keys()))\n",
    "    plt.grid(linestyle='dashed')\n",
    "    \n",
    "    plt.xlabel(\"Link prediction methods\")\n",
    "    plt.ylabel(\"Metric: {}\".format(metric_name))\n",
    "    plt.title(graph_title)\n",
    "    \n",
    "    plt.savefig(RESULT_PLOTS_FOLDER + experiment_name + '-' + metric_name + '.pdf')\n",
    "    plt.clf()\n",
    "    \n",
    "# Plot ROC AUC bar graphs for each amt_hidden\n",
    "for experiment_name, results_dict in twitter_results.iteritems():\n",
    "    roc_dict = dict()\n",
    "        \n",
    "    # Populate metric_dict with results for each method\n",
    "    for method, method_results_dict in results_dict.iteritems():\n",
    "        roc_dict[method] = method_results_dict['test_roc']\n",
    "\n",
    "    # Generate plot for this method and experiment name\n",
    "    save_twitter_bar_plot(\"test_roc\", roc_dict, experiment_name)"
   ]
  },
  {
   "cell_type": "code",
   "execution_count": null,
   "metadata": {
    "collapsed": true
   },
   "outputs": [],
   "source": []
  }
 ],
 "metadata": {
  "kernelspec": {
   "display_name": "Python 3",
   "language": "python",
   "name": "python3"
  },
  "language_info": {
   "codemirror_mode": {
    "name": "ipython",
    "version": 3
   },
   "file_extension": ".py",
   "mimetype": "text/x-python",
   "name": "python",
   "nbconvert_exporter": "python",
   "pygments_lexer": "ipython3",
   "version": "3.6.6"
  }
 },
 "nbformat": 4,
 "nbformat_minor": 2
}
