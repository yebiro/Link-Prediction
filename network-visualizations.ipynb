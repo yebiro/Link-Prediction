{
 "cells": [
  {
   "cell_type": "markdown",
   "metadata": {},
   "source": [
    "# Network Visualizations and Statistics\n",
    "---\n",
    "1. Use matplotlib to generate **visualizations** of each Facebook ego network and each randomly generated NetworkX network. Save the visualizations in `.pdf` files in `visualizations` folder.\n",
    "2. Use networkx to **analyze** each Facebook ego network and each randomly generated NetworkX network. Save the results as dictionaries in `.pkl` files in `network-statistics` folder. (Numbers to crunch: Num. connected components, Num. nodes, Num. edges, Density, Diameter, Avg. clustering coefficient, Avg. degree, Transitivity)"
   ]
  },
  {
   "cell_type": "code",
   "execution_count": 1,
   "metadata": {},
   "outputs": [],
   "source": [
    "import networkx as nx\n",
    "import matplotlib.pyplot as plt\n",
    "import pickle\n",
    "from math import log"
   ]
  },
  {
   "cell_type": "code",
   "execution_count": 2,
   "metadata": {},
   "outputs": [],
   "source": [
    "def save_visualization(g, file_name, title):\n",
    "    plt.figure(figsize=(18,18))\n",
    "    degrees = nx.degree(g)\n",
    "    \n",
    "    # Draw networkx graph -- scale node size by log(degree+1)\n",
    "    nx.draw_spring(g, with_labels=False, \n",
    "                   linewidths=2.0,\n",
    "                   nodelist=degrees.keys(),\n",
    "                   node_size=[log(degree_val+1) * 100 for degree_val in degrees.values()], \\\n",
    "                   node_color='r')\n",
    "    \n",
    "    # Create black border around node shapes\n",
    "    ax = plt.gca()\n",
    "    ax.collections[0].set_edgecolor(\"#000000\")\n",
    "    \n",
    "#     plt.title(title)\n",
    "    plt.savefig(file_name)\n",
    "    plt.clf()"
   ]
  },
  {
   "cell_type": "code",
   "execution_count": 3,
   "metadata": {},
   "outputs": [],
   "source": [
    "def get_network_statistics(g):\n",
    "    num_connected_components = nx.number_connected_components(g)\n",
    "    num_nodes = nx.number_of_nodes(g)\n",
    "    num_edges = nx.number_of_edges(g)\n",
    "    density = nx.density(g)\n",
    "    avg_clustering_coef = nx.average_clustering(g)\n",
    "    avg_degree = sum(g.degree().values()) / float(num_nodes)\n",
    "    transitivity = nx.transitivity(g)\n",
    "    \n",
    "    if num_connected_components == 1:\n",
    "        diameter = nx.diameter(g)\n",
    "    else:\n",
    "        diameter = None # infinite path length between connected components\n",
    "    \n",
    "    network_statistics = {\n",
    "        'num_connected_components':num_connected_components,\n",
    "        'num_nodes':num_nodes,\n",
    "        'num_edges':num_edges,\n",
    "        'density':density,\n",
    "        'diameter':diameter,\n",
    "        'avg_clustering_coef':avg_clustering_coef,\n",
    "        'avg_degree':avg_degree,\n",
    "        'transitivity':transitivity\n",
    "    }\n",
    "    \n",
    "    return network_statistics"
   ]
  },
  {
   "cell_type": "code",
   "execution_count": 4,
   "metadata": {},
   "outputs": [],
   "source": [
    "def save_network_statistics(g, file_name):\n",
    "    network_statistics = get_network_statistics(g)\n",
    "    with open(file_name, 'wb') as f:\n",
    "        pickle.dump(network_statistics, f)"
   ]
  },
  {
   "cell_type": "markdown",
   "metadata": {},
   "source": [
    "## Facebook Ego Networks"
   ]
  },
  {
   "cell_type": "code",
   "execution_count": 5,
   "metadata": {},
   "outputs": [
    {
     "ename": "AttributeError",
     "evalue": "'DegreeView' object has no attribute 'keys'",
     "traceback": [
      "\u001b[1;31m---------------------------------------------------------------------------\u001b[0m",
      "\u001b[1;31mAttributeError\u001b[0m                            Traceback (most recent call last)",
      "\u001b[1;32m<ipython-input-5-5c9f9b44d297>\u001b[0m in \u001b[0;36m<module>\u001b[1;34m\u001b[0m\n\u001b[0;32m     13\u001b[0m     \u001b[0mtitle\u001b[0m \u001b[1;33m=\u001b[0m \u001b[1;34m'Facebook Ego Network: '\u001b[0m \u001b[1;33m+\u001b[0m \u001b[0mstr\u001b[0m\u001b[1;33m(\u001b[0m\u001b[0muser\u001b[0m\u001b[1;33m)\u001b[0m\u001b[1;33m\u001b[0m\u001b[0m\n\u001b[0;32m     14\u001b[0m \u001b[1;33m\u001b[0m\u001b[0m\n\u001b[1;32m---> 15\u001b[1;33m     \u001b[0msave_visualization\u001b[0m\u001b[1;33m(\u001b[0m\u001b[0mG\u001b[0m\u001b[1;33m,\u001b[0m \u001b[0mvisualization_file_name\u001b[0m\u001b[1;33m,\u001b[0m \u001b[0mtitle\u001b[0m\u001b[1;33m)\u001b[0m\u001b[1;33m\u001b[0m\u001b[0m\n\u001b[0m\u001b[0;32m     16\u001b[0m     \u001b[0msave_network_statistics\u001b[0m\u001b[1;33m(\u001b[0m\u001b[0mG\u001b[0m\u001b[1;33m,\u001b[0m \u001b[0mstatistics_file_name\u001b[0m\u001b[1;33m)\u001b[0m\u001b[1;33m\u001b[0m\u001b[0m\n",
      "\u001b[1;32m<ipython-input-2-8b7b5d8aacba>\u001b[0m in \u001b[0;36msave_visualization\u001b[1;34m(g, file_name, title)\u001b[0m\n\u001b[0;32m      6\u001b[0m     nx.draw_spring(g, with_labels=False, \n\u001b[0;32m      7\u001b[0m                    \u001b[0mlinewidths\u001b[0m\u001b[1;33m=\u001b[0m\u001b[1;36m2.0\u001b[0m\u001b[1;33m,\u001b[0m\u001b[1;33m\u001b[0m\u001b[0m\n\u001b[1;32m----> 8\u001b[1;33m                    \u001b[0mnodelist\u001b[0m\u001b[1;33m=\u001b[0m\u001b[0mdegrees\u001b[0m\u001b[1;33m.\u001b[0m\u001b[0mkeys\u001b[0m\u001b[1;33m(\u001b[0m\u001b[1;33m)\u001b[0m\u001b[1;33m,\u001b[0m\u001b[1;33m\u001b[0m\u001b[0m\n\u001b[0m\u001b[0;32m      9\u001b[0m                    \u001b[0mnode_size\u001b[0m\u001b[1;33m=\u001b[0m\u001b[1;33m[\u001b[0m\u001b[0mlog\u001b[0m\u001b[1;33m(\u001b[0m\u001b[0mdegree_val\u001b[0m\u001b[1;33m+\u001b[0m\u001b[1;36m1\u001b[0m\u001b[1;33m)\u001b[0m \u001b[1;33m*\u001b[0m \u001b[1;36m100\u001b[0m \u001b[1;32mfor\u001b[0m \u001b[0mdegree_val\u001b[0m \u001b[1;32min\u001b[0m \u001b[0mdegrees\u001b[0m\u001b[1;33m.\u001b[0m\u001b[0mvalues\u001b[0m\u001b[1;33m(\u001b[0m\u001b[1;33m)\u001b[0m\u001b[1;33m]\u001b[0m\u001b[1;33m,\u001b[0m\u001b[0;31m \u001b[0m\u001b[0;31m\\\u001b[0m\u001b[1;33m\u001b[0m\u001b[0m\n\u001b[0;32m     10\u001b[0m                    node_color='r')\n",
      "\u001b[1;31mAttributeError\u001b[0m: 'DegreeView' object has no attribute 'keys'"
     ],
     "output_type": "error"
    },
    {
     "data": {
      "text/plain": [
       "<Figure size 1296x1296 with 0 Axes>"
      ]
     },
     "metadata": {},
     "output_type": "display_data"
    }
   ],
   "source": [
    "FB_EGO_USERS = [0, 107, 1684, 1912, 3437, 348, 3980, 414, 686, 698]\n",
    "\n",
    "# Individual ego networks\n",
    "for user in FB_EGO_USERS:\n",
    "    network_dir = './fb-processed/{0}-adj-feat.pkl'.format(user)\n",
    "    with open(network_dir, 'rb') as f:\n",
    "        adj, features = pickle.load(f)\n",
    "        \n",
    "    G = nx.Graph(adj)\n",
    "    \n",
    "    visualization_file_name = './visualizations/fb-ego-{0}-visualization.pdf'.format(user)\n",
    "    statistics_file_name = './network-statistics/fb-ego-{0}-statistics.pkl'.format(user)\n",
    "    title = 'Facebook Ego Network: ' + str(user)\n",
    "    \n",
    "    save_visualization(G, visualization_file_name, title)\n",
    "    save_network_statistics(G, statistics_file_name)"
   ]
  },
  {
   "cell_type": "code",
   "execution_count": 6,
   "metadata": {},
   "outputs": [
    {
     "ename": "AttributeError",
     "evalue": "'DegreeView' object has no attribute 'keys'",
     "traceback": [
      "\u001b[1;31m---------------------------------------------------------------------------\u001b[0m",
      "\u001b[1;31mAttributeError\u001b[0m                            Traceback (most recent call last)",
      "\u001b[1;32m<ipython-input-6-cc6ed2a35955>\u001b[0m in \u001b[0;36m<module>\u001b[1;34m\u001b[0m\n\u001b[0;32m      9\u001b[0m     \u001b[0mtitle\u001b[0m \u001b[1;33m=\u001b[0m \u001b[1;34m'Facebook Ego Networks: Combined'\u001b[0m\u001b[1;33m\u001b[0m\u001b[0m\n\u001b[0;32m     10\u001b[0m \u001b[1;33m\u001b[0m\u001b[0m\n\u001b[1;32m---> 11\u001b[1;33m     \u001b[0msave_visualization\u001b[0m\u001b[1;33m(\u001b[0m\u001b[0mG\u001b[0m\u001b[1;33m,\u001b[0m \u001b[0mvisualization_file_name\u001b[0m\u001b[1;33m,\u001b[0m \u001b[0mtitle\u001b[0m\u001b[1;33m)\u001b[0m\u001b[1;33m\u001b[0m\u001b[0m\n\u001b[0m\u001b[0;32m     12\u001b[0m     \u001b[0msave_network_statistics\u001b[0m\u001b[1;33m(\u001b[0m\u001b[0mG\u001b[0m\u001b[1;33m,\u001b[0m \u001b[0mstatistics_file_name\u001b[0m\u001b[1;33m)\u001b[0m\u001b[1;33m\u001b[0m\u001b[0m\n",
      "\u001b[1;32m<ipython-input-2-8b7b5d8aacba>\u001b[0m in \u001b[0;36msave_visualization\u001b[1;34m(g, file_name, title)\u001b[0m\n\u001b[0;32m      6\u001b[0m     nx.draw_spring(g, with_labels=False, \n\u001b[0;32m      7\u001b[0m                    \u001b[0mlinewidths\u001b[0m\u001b[1;33m=\u001b[0m\u001b[1;36m2.0\u001b[0m\u001b[1;33m,\u001b[0m\u001b[1;33m\u001b[0m\u001b[0m\n\u001b[1;32m----> 8\u001b[1;33m                    \u001b[0mnodelist\u001b[0m\u001b[1;33m=\u001b[0m\u001b[0mdegrees\u001b[0m\u001b[1;33m.\u001b[0m\u001b[0mkeys\u001b[0m\u001b[1;33m(\u001b[0m\u001b[1;33m)\u001b[0m\u001b[1;33m,\u001b[0m\u001b[1;33m\u001b[0m\u001b[0m\n\u001b[0m\u001b[0;32m      9\u001b[0m                    \u001b[0mnode_size\u001b[0m\u001b[1;33m=\u001b[0m\u001b[1;33m[\u001b[0m\u001b[0mlog\u001b[0m\u001b[1;33m(\u001b[0m\u001b[0mdegree_val\u001b[0m\u001b[1;33m+\u001b[0m\u001b[1;36m1\u001b[0m\u001b[1;33m)\u001b[0m \u001b[1;33m*\u001b[0m \u001b[1;36m100\u001b[0m \u001b[1;32mfor\u001b[0m \u001b[0mdegree_val\u001b[0m \u001b[1;32min\u001b[0m \u001b[0mdegrees\u001b[0m\u001b[1;33m.\u001b[0m\u001b[0mvalues\u001b[0m\u001b[1;33m(\u001b[0m\u001b[1;33m)\u001b[0m\u001b[1;33m]\u001b[0m\u001b[1;33m,\u001b[0m\u001b[0;31m \u001b[0m\u001b[0;31m\\\u001b[0m\u001b[1;33m\u001b[0m\u001b[0m\n\u001b[0;32m     10\u001b[0m                    node_color='r')\n",
      "\u001b[1;31mAttributeError\u001b[0m: 'DegreeView' object has no attribute 'keys'"
     ],
     "output_type": "error"
    },
    {
     "data": {
      "text/plain": [
       "<Figure size 1296x1296 with 0 Axes>"
      ]
     },
     "metadata": {},
     "output_type": "display_data"
    }
   ],
   "source": [
    "# Combined FB network\n",
    "combined_dir = './fb-processed/combined-adj-sparsefeat.pkl'\n",
    "with open(combined_dir, 'rb') as f:\n",
    "    adj, features = pickle.load(f)\n",
    "    G = nx.Graph(adj)\n",
    "    \n",
    "    visualization_file_name = './visualizations/fb-combined-visualization.pdf'\n",
    "    statistics_file_name = './network-statistics/fb-combined-statistics.pkl'\n",
    "    title = 'Facebook Ego Networks: Combined'\n",
    "    \n",
    "    save_visualization(G, visualization_file_name, title)\n",
    "    save_network_statistics(G, statistics_file_name)"
   ]
  },
  {
   "cell_type": "markdown",
   "metadata": {},
   "source": [
    "## NetworkX Random Networks"
   ]
  },
  {
   "cell_type": "code",
   "execution_count": null,
   "metadata": {
    "collapsed": true
   },
   "outputs": [],
   "source": [
    "RANDOM_SEED = 0\n",
    "\n",
    "# Dictionary to store all nx graphs\n",
    "nx_graphs = {}\n",
    "\n",
    "# Small graphs\n",
    "N_SMALL = 200\n",
    "nx_graphs['er-small'] = nx.erdos_renyi_graph(n=N_SMALL, p=.02, seed=RANDOM_SEED) # Erdos-Renyi\n",
    "nx_graphs['ws-small'] = nx.watts_strogatz_graph(n=N_SMALL, k=5, p=.1, seed=RANDOM_SEED) # Watts-Strogatz\n",
    "nx_graphs['ba-small'] = nx.barabasi_albert_graph(n=N_SMALL, m=2, seed=RANDOM_SEED) # Barabasi-Albert\n",
    "nx_graphs['pc-small'] = nx.powerlaw_cluster_graph(n=N_SMALL, m=2, p=.02, seed=RANDOM_SEED) # Powerlaw Cluster\n",
    "nx_graphs['sbm-small'] = nx.random_partition_graph(sizes=[N_SMALL/10]*10, p_in=.1, p_out=.01, seed=RANDOM_SEED) # Stochastic Block Model\n",
    "\n",
    "# Larger graphs\n",
    "N_LARGE = 1000\n",
    "nx_graphs['er-large'] = nx.erdos_renyi_graph(n=N_LARGE, p=.01, seed=RANDOM_SEED) # Erdos-Renyi\n",
    "nx_graphs['ws-large'] = nx.watts_strogatz_graph(n=N_LARGE, k=3, p=.1, seed=RANDOM_SEED) # Watts-Strogatz\n",
    "nx_graphs['ba-large'] = nx.barabasi_albert_graph(n=N_LARGE, m=2, seed=RANDOM_SEED) # Barabasi-Albert\n",
    "nx_graphs['pc-large'] = nx.powerlaw_cluster_graph(n=N_LARGE, m=2, p=.02, seed=RANDOM_SEED) # Powerlaw Cluster\n",
    "nx_graphs['sbm-large'] = nx.random_partition_graph(sizes=[N_LARGE/10]*10, p_in=.05, p_out=.005, seed=RANDOM_SEED) # Stochastic Block Model"
   ]
  },
  {
   "cell_type": "code",
   "execution_count": null,
   "metadata": {
    "collapsed": true
   },
   "outputs": [],
   "source": [
    "# Remove isolates from random graphs\n",
    "for g_name, nx_g in nx_graphs.iteritems():\n",
    "    isolates = nx.isolates(nx_g)\n",
    "    if len(isolates) > 0:\n",
    "        for isolate_node in isolates:\n",
    "            nx_graphs[g_name].remove_node(isolate_node)"
   ]
  },
  {
   "cell_type": "code",
   "execution_count": null,
   "metadata": {},
   "outputs": [],
   "source": [
    "for name, g in nx_graphs.iteritems():\n",
    "    if nx.number_connected_components(g) > 1:\n",
    "        print 'Unconnected graph: ', name\n",
    "    \n",
    "    visualization_file_name = './visualizations/{0}-visualization.pdf'.format(name)\n",
    "    statistics_file_name = './network-statistics/{0}-statistics.pkl'.format(name)\n",
    "    title = \"Random NetworkX Graph: \" + name\n",
    "    \n",
    "    save_visualization(g, visualization_file_name, title)\n",
    "    save_network_statistics(g, statistics_file_name)"
   ]
  },
  {
   "cell_type": "code",
   "execution_count": null,
   "metadata": {
    "collapsed": true
   },
   "outputs": [],
   "source": []
  }
 ],
 "metadata": {
  "kernelspec": {
   "display_name": "Python 3",
   "language": "python",
   "name": "python3"
  },
  "language_info": {
   "codemirror_mode": {
    "name": "ipython",
    "version": 3
   },
   "file_extension": ".py",
   "mimetype": "text/x-python",
   "name": "python",
   "nbconvert_exporter": "python",
   "pygments_lexer": "ipython3",
   "version": "3.6.6"
  }
 },
 "nbformat": 4,
 "nbformat_minor": 2
}
